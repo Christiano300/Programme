{
 "cells": [
  {
   "cell_type": "code",
   "execution_count": 9,
   "metadata": {},
   "outputs": [],
   "source": [
    "# open words\n",
    "with open('ignfiles/words.txt') as f:\n",
    "    words = (i.strip() for i in f)\n",
    "    words = (i for i in words if len(i) > 3)\n",
    "    words = (i for i in words if len(i) < 10)\n",
    "    words = (i for i in words if hash(i) % 20 == 0)\n",
    "    words = (i.title() for i in words)\n",
    "    string = \"\\n\".join(words)\n",
    "\n",
    "with open('ignfiles/words_new.txt', 'w') as f:\n",
    "    f.write(string)"
   ]
  },
  {
   "cell_type": "code",
   "execution_count": 7,
   "metadata": {},
   "outputs": [
    {
     "name": "stdout",
     "output_type": "stream",
     "text": [
      "10003\n"
     ]
    }
   ],
   "source": [
    "with open('ignfiles/words_new.txt') as f:\n",
    "    print(sum(1 for _ in f))"
   ]
  },
  {
   "cell_type": "code",
   "execution_count": 8,
   "metadata": {},
   "outputs": [
    {
     "name": "stdout",
     "output_type": "stream",
     "text": [
      "5876802848\n"
     ]
    }
   ],
   "source": [
    "print(sum((7 ** i) * (i + 8) for i in range(6, 11)))"
   ]
  }
 ],
 "metadata": {
  "kernelspec": {
   "display_name": "Python 3",
   "language": "python",
   "name": "python3"
  },
  "language_info": {
   "codemirror_mode": {
    "name": "ipython",
    "version": 3
   },
   "file_extension": ".py",
   "mimetype": "text/x-python",
   "name": "python",
   "nbconvert_exporter": "python",
   "pygments_lexer": "ipython3",
   "version": "3.10.3"
  },
  "orig_nbformat": 4,
  "vscode": {
   "interpreter": {
    "hash": "8d7b29c11531fae1356186f465b4a02c5cd851170419d5c64ecda1b4084a8c20"
   }
  }
 },
 "nbformat": 4,
 "nbformat_minor": 2
}
